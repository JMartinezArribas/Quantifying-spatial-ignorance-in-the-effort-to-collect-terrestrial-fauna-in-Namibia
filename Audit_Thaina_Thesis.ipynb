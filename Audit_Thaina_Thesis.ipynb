{
  "cells": [
    {
      "cell_type": "markdown",
      "metadata": {
        "id": "view-in-github",
        "colab_type": "text"
      },
      "source": [
        "<a href=\"https://colab.research.google.com/github/CIBIO-TropiBIO/Knowledge-and-Ignorance-of-Namibia-s-biodiversity/blob/main/Audit_Thaina_Thesis.ipynb\" target=\"_parent\"><img src=\"https://colab.research.google.com/assets/colab-badge.svg\" alt=\"Open In Colab\"/></a>"
      ]
    },
    {
      "cell_type": "markdown",
      "source": [
        "# Author:   Javier Martinez Arribas       \n",
        "# Date:     09 - September - 2022          \n",
        "# Contact:  javimartinezarribas@gmail.com \n",
        "\n",
        "\n",
        "---"
      ],
      "metadata": {
        "id": "r1nR-F-h8LJw"
      }
    },
    {
      "cell_type": "markdown",
      "source": [
        "\n",
        "#### **1. Libraries needed (maybe you have to add or remove some packages from the list)**"
      ],
      "metadata": {
        "id": "aJnzgM9L-rpv"
      }
    },
    {
      "cell_type": "code",
      "execution_count": 1,
      "metadata": {
        "colab": {
          "base_uri": "https://localhost:8080/",
          "height": 1000
        },
        "id": "4Q8Mmq-u5Iwg",
        "outputId": "4a2af164-1391-4c9d-c2dd-f58487f86b49"
      },
      "outputs": [
        {
          "output_type": "stream",
          "name": "stderr",
          "text": [
            "Installing package into ‘/usr/local/lib/R/site-library’\n",
            "(as ‘lib’ is unspecified)\n",
            "\n",
            "also installing the dependencies ‘gamlss.data’, ‘gamlss.dist’\n",
            "\n",
            "\n",
            "Installing package into ‘/usr/local/lib/R/site-library’\n",
            "(as ‘lib’ is unspecified)\n",
            "\n",
            "also installing the dependencies ‘numDeriv’, ‘SparseM’, ‘MatrixModels’, ‘sp’, ‘minqa’, ‘nloptr’, ‘RcppEigen’, ‘carData’, ‘abind’, ‘pbkrtest’, ‘quantreg’, ‘maptools’, ‘lme4’, ‘Rcpp’, ‘corrplot’, ‘car’, ‘ggrepel’, ‘ggsci’, ‘cowplot’, ‘ggsignif’, ‘gridExtra’, ‘polynom’, ‘rstatix’\n",
            "\n",
            "\n",
            "Installing package into ‘/usr/local/lib/R/site-library’\n",
            "(as ‘lib’ is unspecified)\n",
            "\n",
            "Installing package into ‘/usr/local/lib/R/site-library’\n",
            "(as ‘lib’ is unspecified)\n",
            "\n",
            "Installing package into ‘/usr/local/lib/R/site-library’\n",
            "(as ‘lib’ is unspecified)\n",
            "\n",
            "also installing the dependencies ‘rjags’, ‘coda’, ‘Formula’\n",
            "\n",
            "\n",
            "Warning message in install.packages(libs, dependences = TRUE):\n",
            "“installation of package ‘rjags’ had non-zero exit status”\n",
            "Warning message in install.packages(libs, dependences = TRUE):\n",
            "“installation of package ‘zoib’ had non-zero exit status”\n",
            "Loading required package: gamlss\n",
            "\n",
            "Loading required package: splines\n",
            "\n",
            "Loading required package: gamlss.data\n",
            "\n",
            "\n",
            "Attaching package: ‘gamlss.data’\n",
            "\n",
            "\n",
            "The following object is masked from ‘package:datasets’:\n",
            "\n",
            "    sleep\n",
            "\n",
            "\n",
            "Loading required package: gamlss.dist\n",
            "\n",
            "Loading required package: MASS\n",
            "\n",
            "Loading required package: nlme\n",
            "\n",
            "Loading required package: parallel\n",
            "\n",
            " **********   GAMLSS Version 5.4-3  ********** \n",
            "\n",
            "For more on GAMLSS look at https://www.gamlss.com/\n",
            "\n",
            "Type gamlssNews() to see new features/changes/bug fixes.\n",
            "\n",
            "\n",
            "Loading required package: tidyverse\n",
            "\n",
            "Warning message in system(\"timedatectl\", intern = TRUE):\n",
            "“running command 'timedatectl' had status 1”\n",
            "── \u001b[1mAttaching packages\u001b[22m ─────────────────────────────────────── tidyverse 1.3.1 ──\n",
            "\n",
            "\u001b[32m✔\u001b[39m \u001b[34mggplot2\u001b[39m 3.3.6      \u001b[32m✔\u001b[39m \u001b[34mpurrr  \u001b[39m 0.3.4 \n",
            "\u001b[32m✔\u001b[39m \u001b[34mtibble \u001b[39m 3.1.7      \u001b[32m✔\u001b[39m \u001b[34mdplyr  \u001b[39m 1.0.10\n",
            "\u001b[32m✔\u001b[39m \u001b[34mtidyr  \u001b[39m 1.2.1      \u001b[32m✔\u001b[39m \u001b[34mstringr\u001b[39m 1.4.1 \n",
            "\u001b[32m✔\u001b[39m \u001b[34mreadr  \u001b[39m 2.1.2      \u001b[32m✔\u001b[39m \u001b[34mforcats\u001b[39m 0.5.2 \n",
            "\n",
            "── \u001b[1mConflicts\u001b[22m ────────────────────────────────────────── tidyverse_conflicts() ──\n",
            "\u001b[31m✖\u001b[39m \u001b[34mdplyr\u001b[39m::\u001b[32mcollapse()\u001b[39m masks \u001b[34mnlme\u001b[39m::collapse()\n",
            "\u001b[31m✖\u001b[39m \u001b[34mdplyr\u001b[39m::\u001b[32mfilter()\u001b[39m   masks \u001b[34mstats\u001b[39m::filter()\n",
            "\u001b[31m✖\u001b[39m \u001b[34mdplyr\u001b[39m::\u001b[32mlag()\u001b[39m      masks \u001b[34mstats\u001b[39m::lag()\n",
            "\u001b[31m✖\u001b[39m \u001b[34mdplyr\u001b[39m::\u001b[32mselect()\u001b[39m   masks \u001b[34mMASS\u001b[39m::select()\n",
            "\n",
            "Loading required package: ggpubr\n",
            "\n",
            "Loading required package: skimr\n",
            "\n",
            "Loading required package: readxl\n",
            "\n",
            "Loading required package: fitdistrplus\n",
            "\n",
            "Loading required package: survival\n",
            "\n",
            "Loading required package: zoib\n",
            "\n",
            "Warning message in library(package, lib.loc = lib.loc, character.only = TRUE, logical.return = TRUE, :\n",
            "“there is no package called ‘zoib’”\n"
          ]
        },
        {
          "output_type": "display_data",
          "data": {
            "text/html": [
              "<style>\n",
              ".dl-inline {width: auto; margin:0; padding: 0}\n",
              ".dl-inline>dt, .dl-inline>dd {float: none; width: auto; display: inline-block}\n",
              ".dl-inline>dt::after {content: \":\\0020\"; padding-right: .5ex}\n",
              ".dl-inline>dt:not(:first-of-type) {padding-left: .5ex}\n",
              "</style><dl class=dl-inline><dt>gamlss</dt><dd>TRUE</dd><dt>tidyverse</dt><dd>TRUE</dd><dt>ggpubr</dt><dd>TRUE</dd><dt>skimr</dt><dd>TRUE</dd><dt>readxl</dt><dd>TRUE</dd><dt>fitdistrplus</dt><dd>TRUE</dd><dt>zoib</dt><dd>FALSE</dd></dl>\n"
            ],
            "text/markdown": "gamlss\n:   TRUEtidyverse\n:   TRUEggpubr\n:   TRUEskimr\n:   TRUEreadxl\n:   TRUEfitdistrplus\n:   TRUEzoib\n:   FALSE\n\n",
            "text/latex": "\\begin{description*}\n\\item[gamlss] TRUE\n\\item[tidyverse] TRUE\n\\item[ggpubr] TRUE\n\\item[skimr] TRUE\n\\item[readxl] TRUE\n\\item[fitdistrplus] TRUE\n\\item[zoib] FALSE\n\\end{description*}\n",
            "text/plain": [
              "      gamlss    tidyverse       ggpubr        skimr       readxl fitdistrplus \n",
              "        TRUE         TRUE         TRUE         TRUE         TRUE         TRUE \n",
              "        zoib \n",
              "       FALSE "
            ]
          },
          "metadata": {}
        }
      ],
      "source": [
        "load.libraries <- c('gamlss','tidyverse','ggpubr','skimr','readxl','fitdistrplus','zoib')\n",
        "install.lib <- load.libraries[!load.libraries %in% installed.packages()]\n",
        "for(libs in install.lib) install.packages(libs, dependences = TRUE)\n",
        "sapply(load.libraries, require, character = TRUE)\n"
      ]
    },
    {
      "cell_type": "markdown",
      "source": [
        "#### **2. Loading files for Amphibians, Aves, Insecta, Liliopsida, Magnoliopsida, Mammalia, (n=5 for Ignorance Score)**"
      ],
      "metadata": {
        "id": "6tE8Vm8S8KWm"
      }
    },
    {
      "cell_type": "code",
      "source": [
        "file1 = \"NamibiaAmphibiaLogNormIgn.xls\"  \n",
        "file2 = \"NamibiaAvesLogNormIgn.xls\"      \n",
        "file3 = \"NamibiaInsectaLogNormIgn.xls\"\n",
        "file4 = \"NamibiaLiliopsidaLogNormIgn.xls\"\n",
        "file5 = \"NamibiaMagnoliopsidaLogNormIgn.xls\"\n",
        "file6 = \"NamibiaMammaliaLogNormIgn.xls\"\n",
        "file7 = \"NamibiaReptiliaLogNormIgn.xls\"\n",
        "\n",
        "df1 = data.frame(read_excel(file1))   #Amphibia\n",
        "df2 = data.frame(read_excel(file2))   #Aves\n",
        "df3 = data.frame(read_excel(file3))   #Insecta\n",
        "df4 = data.frame(read_excel(file4))   #Liliopsida\n",
        "df5 = data.frame(read_excel(file5))   #Magnoliopsida\n",
        "df6 = data.frame(read_excel(file6))   #Mammalia\n",
        "df7 = data.frame(read_excel(file7))   #Reptilia"
      ],
      "metadata": {
        "id": "PqMy9mrk7gXZ"
      },
      "execution_count": 2,
      "outputs": []
    },
    {
      "cell_type": "code",
      "source": [
        "head(df1)"
      ],
      "metadata": {
        "colab": {
          "base_uri": "https://localhost:8080/",
          "height": 286
        },
        "id": "guO-OeQL8ER1",
        "outputId": "c9775813-59bc-41f4-dca3-31d3d3a72c38"
      },
      "execution_count": 4,
      "outputs": [
        {
          "output_type": "display_data",
          "data": {
            "text/html": [
              "<table class=\"dataframe\">\n",
              "<caption>A data.frame: 6 × 10</caption>\n",
              "<thead>\n",
              "\t<tr><th></th><th scope=col>ignScore</th><th scope=col>FID</th><th scope=col>RD</th><th scope=col>UD</th><th scope=col>PAD</th><th scope=col>FC</th><th scope=col>POD</th><th scope=col>STP</th><th scope=col>Longitude</th><th scope=col>Latitude</th></tr>\n",
              "\t<tr><th></th><th scope=col>&lt;dbl&gt;</th><th scope=col>&lt;dbl&gt;</th><th scope=col>&lt;dbl&gt;</th><th scope=col>&lt;dbl&gt;</th><th scope=col>&lt;dbl&gt;</th><th scope=col>&lt;dbl&gt;</th><th scope=col>&lt;dbl&gt;</th><th scope=col>&lt;dbl&gt;</th><th scope=col>&lt;dbl&gt;</th><th scope=col>&lt;dbl&gt;</th></tr>\n",
              "</thead>\n",
              "<tbody>\n",
              "\t<tr><th scope=row>1</th><td>0.00000100</td><td>18019</td><td>0.393</td><td>138.9807</td><td> 0.00000</td><td>0.30842065</td><td> 260.3895</td><td>0.008640764</td><td>13.83286</td><td>-17.39066</td></tr>\n",
              "\t<tr><th scope=row>2</th><td>0.01417696</td><td> 6789</td><td>0.636</td><td>249.1216</td><td>20.43522</td><td>0.00009470</td><td>   9.9306</td><td>0.013981667</td><td>16.30068</td><td>-24.50973</td></tr>\n",
              "\t<tr><th scope=row>3</th><td>0.09640613</td><td>18639</td><td>0.217</td><td>203.4085</td><td> 0.00000</td><td>0.09979011</td><td> 195.2844</td><td>0.007286911</td><td>13.28003</td><td>-17.00073</td></tr>\n",
              "\t<tr><th scope=row>4</th><td>0.20749123</td><td>16965</td><td>1.615</td><td>263.1935</td><td> 0.00000</td><td>4.55773065</td><td>5665.5498</td><td>0.010320449</td><td>21.55996</td><td>-18.09381</td></tr>\n",
              "\t<tr><th scope=row>5</th><td>0.20749123</td><td>17990</td><td>0.341</td><td>  0.0000</td><td> 0.00000</td><td>8.02187055</td><td>6060.5165</td><td>0.009649476</td><td>24.23989</td><td>-17.46870</td></tr>\n",
              "\t<tr><th scope=row>6</th><td>0.23524169</td><td>17084</td><td>0.240</td><td>318.8803</td><td> 0.00000</td><td>4.58276259</td><td>1945.6440</td><td>0.010670739</td><td>20.90512</td><td>-18.01560</td></tr>\n",
              "</tbody>\n",
              "</table>\n"
            ],
            "text/markdown": "\nA data.frame: 6 × 10\n\n| <!--/--> | ignScore &lt;dbl&gt; | FID &lt;dbl&gt; | RD &lt;dbl&gt; | UD &lt;dbl&gt; | PAD &lt;dbl&gt; | FC &lt;dbl&gt; | POD &lt;dbl&gt; | STP &lt;dbl&gt; | Longitude &lt;dbl&gt; | Latitude &lt;dbl&gt; |\n|---|---|---|---|---|---|---|---|---|---|---|\n| 1 | 0.00000100 | 18019 | 0.393 | 138.9807 |  0.00000 | 0.30842065 |  260.3895 | 0.008640764 | 13.83286 | -17.39066 |\n| 2 | 0.01417696 |  6789 | 0.636 | 249.1216 | 20.43522 | 0.00009470 |    9.9306 | 0.013981667 | 16.30068 | -24.50973 |\n| 3 | 0.09640613 | 18639 | 0.217 | 203.4085 |  0.00000 | 0.09979011 |  195.2844 | 0.007286911 | 13.28003 | -17.00073 |\n| 4 | 0.20749123 | 16965 | 1.615 | 263.1935 |  0.00000 | 4.55773065 | 5665.5498 | 0.010320449 | 21.55996 | -18.09381 |\n| 5 | 0.20749123 | 17990 | 0.341 |   0.0000 |  0.00000 | 8.02187055 | 6060.5165 | 0.009649476 | 24.23989 | -17.46870 |\n| 6 | 0.23524169 | 17084 | 0.240 | 318.8803 |  0.00000 | 4.58276259 | 1945.6440 | 0.010670739 | 20.90512 | -18.01560 |\n\n",
            "text/latex": "A data.frame: 6 × 10\n\\begin{tabular}{r|llllllllll}\n  & ignScore & FID & RD & UD & PAD & FC & POD & STP & Longitude & Latitude\\\\\n  & <dbl> & <dbl> & <dbl> & <dbl> & <dbl> & <dbl> & <dbl> & <dbl> & <dbl> & <dbl>\\\\\n\\hline\n\t1 & 0.00000100 & 18019 & 0.393 & 138.9807 &  0.00000 & 0.30842065 &  260.3895 & 0.008640764 & 13.83286 & -17.39066\\\\\n\t2 & 0.01417696 &  6789 & 0.636 & 249.1216 & 20.43522 & 0.00009470 &    9.9306 & 0.013981667 & 16.30068 & -24.50973\\\\\n\t3 & 0.09640613 & 18639 & 0.217 & 203.4085 &  0.00000 & 0.09979011 &  195.2844 & 0.007286911 & 13.28003 & -17.00073\\\\\n\t4 & 0.20749123 & 16965 & 1.615 & 263.1935 &  0.00000 & 4.55773065 & 5665.5498 & 0.010320449 & 21.55996 & -18.09381\\\\\n\t5 & 0.20749123 & 17990 & 0.341 &   0.0000 &  0.00000 & 8.02187055 & 6060.5165 & 0.009649476 & 24.23989 & -17.46870\\\\\n\t6 & 0.23524169 & 17084 & 0.240 & 318.8803 &  0.00000 & 4.58276259 & 1945.6440 & 0.010670739 & 20.90512 & -18.01560\\\\\n\\end{tabular}\n",
            "text/plain": [
              "  ignScore   FID   RD    UD       PAD      FC         POD       STP        \n",
              "1 0.00000100 18019 0.393 138.9807  0.00000 0.30842065  260.3895 0.008640764\n",
              "2 0.01417696  6789 0.636 249.1216 20.43522 0.00009470    9.9306 0.013981667\n",
              "3 0.09640613 18639 0.217 203.4085  0.00000 0.09979011  195.2844 0.007286911\n",
              "4 0.20749123 16965 1.615 263.1935  0.00000 4.55773065 5665.5498 0.010320449\n",
              "5 0.20749123 17990 0.341   0.0000  0.00000 8.02187055 6060.5165 0.009649476\n",
              "6 0.23524169 17084 0.240 318.8803  0.00000 4.58276259 1945.6440 0.010670739\n",
              "  Longitude Latitude \n",
              "1 13.83286  -17.39066\n",
              "2 16.30068  -24.50973\n",
              "3 13.28003  -17.00073\n",
              "4 21.55996  -18.09381\n",
              "5 24.23989  -17.46870\n",
              "6 20.90512  -18.01560"
            ]
          },
          "metadata": {}
        }
      ]
    },
    {
      "cell_type": "markdown",
      "source": [
        "#### **3. Checking Response Variable Distribution**\n",
        "Simulation for Namibia observations to check the sample distribution\n"
      ],
      "metadata": {
        "id": "JfPMdAis-3_7"
      }
    },
    {
      "cell_type": "code",
      "source": [
        "#Amphibians\n",
        "ggplot() +\n",
        "    geom_histogram(\n",
        "        data = df1,\n",
        "        aes(x = ignScore),\n",
        "        alpha = 0.5, fill = \"firebrick\") +\n",
        "    ggtitle(\"Amphibians\")\n",
        "#Aves\n",
        "ggplot() +\n",
        "    geom_histogram(\n",
        "        data = df2,\n",
        "        aes(x = ignScore),\n",
        "        alpha = 0.5, fill = \"firebrick\")+\n",
        "    ggtitle(\"Aves\") \n",
        "#Insecta\n",
        "ggplot() +\n",
        "    geom_histogram(\n",
        "        data = df3,\n",
        "        aes(x = ignScore),\n",
        "        alpha = 0.5, fill = \"firebrick\")+\n",
        "    ggtitle(\"Insecta\") \n",
        "#Liliopsida\n",
        "ggplot() +\n",
        "    geom_histogram(\n",
        "        data = df4,\n",
        "        aes(x = ignScore),\n",
        "        alpha = 0.5, fill = \"firebrick\") +\n",
        "    ggtitle(\"Liliopsida\")\n",
        "#Magnoliopsida\n",
        "ggplot() +\n",
        "    geom_histogram(\n",
        "        data = df5,\n",
        "        aes(x = ignScore),\n",
        "        alpha = 0.5, fill = \"firebrick\") +\n",
        "    ggtitle(\"Magnoliopsida\") \n",
        "#Mammalia\n",
        "ggplot() +\n",
        "    geom_histogram(\n",
        "        data = df6,\n",
        "        aes(x = ignScore),\n",
        "        alpha = 0.5, fill = \"firebrick\") +\n",
        "    ggtitle(\"Mammalia\") \n",
        "#Reptilia\n",
        "ggplot() +\n",
        "    geom_histogram(\n",
        "        data = df7,\n",
        "        aes(x = ignScore),\n",
        "        alpha = 0.5, fill = \"firebrick\") +\n",
        "    ggtitle(\"Reptilia\")\n"
      ],
      "metadata": {
        "colab": {
          "base_uri": "https://localhost:8080/",
          "height": 1000
        },
        "id": "JEtTRCOowlfq",
        "outputId": "cb02cf6f-7867-4bb7-fdab-1305515596a2"
      },
      "execution_count": 3,
      "outputs": [
        {
          "output_type": "stream",
          "name": "stderr",
          "text": [
            "`stat_bin()` using `bins = 30`. Pick better value with `binwidth`.\n",
            "\n",
            "`stat_bin()` using `bins = 30`. Pick better value with `binwidth`.\n",
            "\n"
          ]
        },
        {
          "output_type": "display_data",
          "data": {
            "text/plain": [
              "plot without title"
            ],
            "image/png": "[encoded data removed]"
          },
          "metadata": {
            "image/png": {
              "width": 420,
              "height": 420
            }
          }
        },
        {
          "output_type": "stream",
          "name": "stderr",
          "text": [
            "`stat_bin()` using `bins = 30`. Pick better value with `binwidth`.\n",
            "\n"
          ]
        },
        {
          "output_type": "display_data",
          "data": {
            "text/plain": [
              "plot without title"
            ],
            "image/png": "[encoded data removed]"
          },
          "metadata": {
            "image/png": {
              "width": 420,
              "height": 420
            }
          }
        },
        {
          "output_type": "stream",
          "name": "stderr",
          "text": [
            "`stat_bin()` using `bins = 30`. Pick better value with `binwidth`.\n",
            "\n"
          ]
        },
        {
          "output_type": "display_data",
          "data": {
            "text/plain": [
              "plot without title"
            ],
            "image/png": "[encoded data removed]"
          },
          "metadata": {
            "image/png": {
              "width": 420,
              "height": 420
            }
          }
        },
        {
          "output_type": "stream",
          "name": "stderr",
          "text": [
            "`stat_bin()` using `bins = 30`. Pick better value with `binwidth`.\n",
            "\n"
          ]
        },
        {
          "output_type": "display_data",
          "data": {
            "text/plain": [
              "plot without title"
            ],
            "image/png": "[encoded data removed]"
          },
          "metadata": {
            "image/png": {
              "width": 420,
              "height": 420
            }
          }
        },
        {
          "output_type": "stream",
          "name": "stderr",
          "text": [
            "`stat_bin()` using `bins = 30`. Pick better value with `binwidth`.\n",
            "\n"
          ]
        },
        {
          "output_type": "display_data",
          "data": {
            "text/plain": [
              "plot without title"
            ],
            "image/png": "[encoded data removed]"
          },
          "metadata": {
            "image/png": {
              "width": 420,
              "height": 420
            }
          }
        },
        {
          "output_type": "stream",
          "name": "stderr",
          "text": [
            "`stat_bin()` using `bins = 30`. Pick better value with `binwidth`.\n",
            "\n"
          ]
        },
        {
          "output_type": "display_data",
          "data": {
            "text/plain": [
              "plot without title"
            ],
            "image/png": "[encoded data removed]"
          },
          "metadata": {
            "image/png": {
              "width": 420,
              "height": 420
            }
          }
        },
        {
          "output_type": "display_data",
          "data": {
            "text/plain": [
              "plot without title"
            ],
            "image/png": "[encoded data removed]"
          },
          "metadata": {
            "image/png": {
              "width": 420,
              "height": 420
            }
          }
        }
      ]
    },
    {
      "cell_type": "markdown",
      "source": [
        "### Models\n",
        "\n",
        "\n",
        "\n",
        "---\n"
      ],
      "metadata": {
        "id": "Fse0syXP_W2M"
      }
    },
    {
      "cell_type": "markdown",
      "source": [
        "Amphibians model"
      ],
      "metadata": {
        "id": "uk80g3Qv_cRZ"
      }
    },
    {
      "cell_type": "code",
      "source": [
        "mod_amph <- gamlss(\n",
        "  formula = ignScore ~ pb(RD) + pb(UD) + pb(PAD) + \n",
        "    pb(FC) + pb(POD) + pb(STP),\n",
        "  nu.formula = ignScore ~ pb(RD) + pb(UD) + pb(PAD) + \n",
        "    pb(FC) + pb(POD) + pb(STP),\n",
        "  family  = BEINF1,\n",
        "  data    = df1,\n",
        "  trace   = FALSE\n",
        ")\n",
        "summary(mod_amph)\n",
        "\n",
        "# Godness of fit\n",
        "# If you've got a warning here, please increase ylim.all argument\n",
        "wp(mod_amph, ylim.all = 1.2)"
      ],
      "metadata": {
        "colab": {
          "base_uri": "https://localhost:8080/",
          "height": 1000
        },
        "id": "aPfgd3-H_htD",
        "outputId": "4e7e240a-31b8-418e-8312-f8bed00f7861"
      },
      "execution_count": 4,
      "outputs": [
        {
          "output_type": "stream",
          "name": "stderr",
          "text": [
            "Warning message in additive.fit(x = X, y = wv, w = wt * w, s = s, who = who, smooth.frame, :\n",
            "“additive.fit convergence not obtained in  30  iterations”\n",
            "Warning message in additive.fit(x = X, y = wv, w = wt * w, s = s, who = who, smooth.frame, :\n",
            "“additive.fit convergence not obtained in  30  iterations”\n",
            "Warning message in additive.fit(x = X, y = wv, w = wt * w, s = s, who = who, smooth.frame, :\n",
            "“additive.fit convergence not obtained in  30  iterations”\n",
            "Warning message in additive.fit(x = X, y = wv, w = wt * w, s = s, who = who, smooth.frame, :\n",
            "“additive.fit convergence not obtained in  30  iterations”\n",
            "Warning message in additive.fit(x = X, y = wv, w = wt * w, s = s, who = who, smooth.frame, :\n",
            "“additive.fit convergence not obtained in  30  iterations”\n",
            "Warning message in additive.fit(x = X, y = wv, w = wt * w, s = s, who = who, smooth.frame, :\n",
            "“additive.fit convergence not obtained in  30  iterations”\n",
            "Warning message in RS():\n",
            "“Algorithm RS has not yet converged”\n"
          ]
        },
        {
          "output_type": "stream",
          "name": "stdout",
          "text": [
            "******************************************************************\n",
            "Family:  c(\"BEINF1\", \"Beta Inflated one\") \n",
            "\n",
            "Call:  gamlss(formula = ignScore ~ pb(RD) + pb(UD) + pb(PAD) +  \n",
            "    pb(FC) + pb(POD) + pb(STP), nu.formula = ignScore ~  \n",
            "    pb(RD) + pb(UD) + pb(PAD) + pb(FC) + pb(POD) +  \n",
            "        pb(STP), family = BEINF1, data = df1, trace = FALSE) \n",
            "\n",
            "Fitting method: RS() \n",
            "\n",
            "------------------------------------------------------------------\n",
            "Mu link function:  logit\n",
            "Mu Coefficients:\n",
            "              Estimate Std. Error  t value Pr(>|t|)    \n",
            "(Intercept)  2.306e+00  1.866e-01   12.356  < 2e-16 ***\n",
            "pb(RD)      -1.666e+01  9.424e-02 -176.739  < 2e-16 ***\n",
            "pb(UD)       1.588e-03  3.631e-04    4.374 1.24e-05 ***\n",
            "pb(PAD)      7.327e-03  1.343e-03    5.457 4.99e-08 ***\n",
            "pb(FC)      -1.506e-01  1.316e-02  -11.442  < 2e-16 ***\n",
            "pb(POD)      3.149e-04  7.408e-06   42.514  < 2e-16 ***\n",
            "pb(STP)      4.439e+02  1.256e+01   35.336  < 2e-16 ***\n",
            "---\n",
            "Signif. codes:  0 ‘***’ 0.001 ‘**’ 0.01 ‘*’ 0.05 ‘.’ 0.1 ‘ ’ 1\n",
            "\n",
            "------------------------------------------------------------------\n",
            "Sigma link function:  logit\n",
            "Sigma Coefficients:\n",
            "            Estimate Std. Error t value Pr(>|t|)    \n",
            "(Intercept) -1.75321    0.08734  -20.07   <2e-16 ***\n",
            "---\n",
            "Signif. codes:  0 ‘***’ 0.001 ‘**’ 0.01 ‘*’ 0.05 ‘.’ 0.1 ‘ ’ 1\n",
            "\n",
            "------------------------------------------------------------------\n",
            "Nu link function:  log \n",
            "Nu Coefficients:\n",
            "              Estimate Std. Error t value Pr(>|t|)    \n",
            "(Intercept)  6.486e+00  5.044e-01  12.857  < 2e-16 ***\n",
            "pb(RD)       1.075e-01  2.363e-01   0.455   0.6491    \n",
            "pb(UD)       1.248e-03  1.107e-03   1.128   0.2594    \n",
            "pb(PAD)      6.344e-03  4.892e-03   1.297   0.1948    \n",
            "pb(FC)      -1.942e-01  3.486e-02  -5.571 2.61e-08 ***\n",
            "pb(POD)      9.393e-06  1.433e-05   0.655   0.5122    \n",
            "pb(STP)     -7.712e+01  3.961e+01  -1.947   0.0516 .  \n",
            "---\n",
            "Signif. codes:  0 ‘***’ 0.001 ‘**’ 0.01 ‘*’ 0.05 ‘.’ 0.1 ‘ ’ 1\n",
            "\n",
            "------------------------------------------------------------------\n",
            "NOTE: Additive smoothing terms exist in the formulas: \n",
            " i) Std. Error for smoothers are for the linear effect only. \n",
            "ii) Std. Error for the linear terms maybe are not accurate. \n",
            "------------------------------------------------------------------\n",
            "No. of observations in the fit:  8567 \n",
            "Degrees of Freedom for the fit:  93.76691\n",
            "      Residual Deg. of Freedom:  8473.233 \n",
            "                      at cycle:  20 \n",
            " \n",
            "Global Deviance:     612.0258 \n",
            "            AIC:     799.5596 \n",
            "            SBC:     1461.148 \n",
            "******************************************************************\n"
          ]
        },
        {
          "output_type": "stream",
          "name": "stderr",
          "text": [
            "Warning message in wp(mod_amph, ylim.all = 1.2):\n",
            "“Some points are missed out \n",
            "increase the y limits using ylim.all”\n"
          ]
        },
        {
          "output_type": "display_data",
          "data": {
            "text/plain": [
              "plot without title"
            ],
            "image/png": "[encoded data removed]"
          },
          "metadata": {
            "image/png": {
              "width": 420,
              "height": 420
            }
          }
        }
      ]
    },
    {
      "cell_type": "code",
      "source": [
        "nC = detectCores()"
      ],
      "metadata": {
        "id": "0I5HkvdIyPWh"
      },
      "execution_count": 5,
      "outputs": []
    },
    {
      "cell_type": "code",
      "source": [
        "## Predictors selection for the mean\n",
        "stepGAIC(mod_amph, what = \"mu\", parallel = \"multicore\", ncpus = nC)"
      ],
      "metadata": {
        "id": "2ICLP3wg_uvZ"
      },
      "execution_count": null,
      "outputs": []
    },
    {
      "cell_type": "code",
      "source": [
        "## Pedictors selection for the shape\n",
        "stepGAIC(mod_amph, what = \"nu\", parallel = \"multicore\", ncpus = nC)"
      ],
      "metadata": {
        "id": "YTd7kdqI_wLU"
      },
      "execution_count": null,
      "outputs": []
    },
    {
      "cell_type": "code",
      "source": [
        "## Final Model\n",
        "# Depending on drop1 results you will need to add or remove predictors from the formula below\n",
        "\n",
        "mod_amph_final <- gamlss(\n",
        "  formula = ignScore ~ pb(RD) + pb(UD) + pb(POD) + pb(FC) + pb(STP),\n",
        "  nu.formula = ignScore ~ pb(RD) + pb(PAD) + pb(POD) + pb(UD) + pb(FC) + pb(STP),\n",
        "  family  = BEINF1,\n",
        "  data    = df1,\n",
        "  trace   = FALSE\n",
        ")\n",
        "summary(mod_amph_final)\n",
        "\n",
        "# Godness of fit\n",
        "# If you've got a warning here, please increase ylim.all argument\n",
        "wp(mod_amph, ylim.all = 1.2)"
      ],
      "metadata": {
        "id": "KXpXyWnbBTNU"
      },
      "execution_count": null,
      "outputs": []
    },
    {
      "cell_type": "code",
      "source": [
        "termplot(mod_amph_final,parameter=\"mu\", pages=5, ask=FALSE, rug=TRUE, se=FALSE)"
      ],
      "metadata": {
        "id": "cPU-Ny8tUL-k"
      },
      "execution_count": null,
      "outputs": []
    },
    {
      "cell_type": "markdown",
      "source": [
        "Aves model\n",
        "\n",
        "\n",
        "\n",
        "---\n",
        "\n",
        "\n"
      ],
      "metadata": {
        "id": "pkhP3Q8sFmHe"
      }
    },
    {
      "cell_type": "code",
      "source": [
        "mod_aves <- gamlss(\n",
        "  formula = ignScore ~ pb(RD) + pb(UD) + pb(PAD) + \n",
        "    pb(FC) + pb(POD) + pb(STP),\n",
        "  nu.formula = ignScore ~ pb(RD) + pb(UD) + pb(PAD) + \n",
        "    pb(FC) + pb(POD) + pb(STP),\n",
        "  family  = BEINF1,\n",
        "  data    = df2,\n",
        "  trace   = FALSE\n",
        ")\n",
        "summary(mod_aves)\n",
        "\n",
        "# Godness of fit\n",
        "# If you've got a warning here, please increase ylim.all argument\n",
        "wp(mod_aves, ylim.all = 1.2)"
      ],
      "metadata": {
        "id": "xGQHmlfBFzrR"
      },
      "execution_count": null,
      "outputs": []
    },
    {
      "cell_type": "code",
      "source": [
        "## Predictors selection for the mean\n",
        "stepGAIC(mod_aves, what = \"mu\", parallel = \"multicore\", ncpus = nC)"
      ],
      "metadata": {
        "id": "uKqlXZ5S7Ayi"
      },
      "execution_count": null,
      "outputs": []
    },
    {
      "cell_type": "code",
      "source": [
        "## Pedictors selection for the shape\n",
        "stepGAIC(mod_aves, what = \"nu\", parallel = \"multicore\", ncpus = nC)"
      ],
      "metadata": {
        "id": "WVbCuOYP7Agl"
      },
      "execution_count": null,
      "outputs": []
    },
    {
      "cell_type": "code",
      "source": [
        "## Final Model\n",
        "# Depending on drop1 results you will need to add or remove predictors from the formula below\n",
        "\n",
        "mod_aves_final <- gamlss(\n",
        "  formula = ignScore ~ pb(RD) + pb(PAD) + pb(UD) + pb(POD) + pb(FC) + pb(STP),\n",
        "  nu.formula = ignScore ~ pb(RD) + pb(PAD) + pb(UD) + pb(POD) + pb(FC) + pb(STP),\n",
        "  family  = BEINF1,\n",
        "  data    = df2,\n",
        "  trace   = FALSE\n",
        ")\n",
        "summary(mod_aves_final)\n",
        "\n",
        "# Godness of fit\n",
        "# If you've got a warning here, please increase ylim.all argument\n",
        "wp(mod_aves_final, ylim.all = 1.2)"
      ],
      "metadata": {
        "id": "uFhBMD_Q7bJQ"
      },
      "execution_count": null,
      "outputs": []
    },
    {
      "cell_type": "code",
      "source": [
        "termplot(mod_aves_final, parameter=\"mu\", pages=6, ask=FALSE, rug=TRUE, se=FALSE)"
      ],
      "metadata": {
        "id": "mmB_GJQVVGp4"
      },
      "execution_count": null,
      "outputs": []
    },
    {
      "cell_type": "markdown",
      "source": [
        "Insecta model\n",
        "\n",
        "\n",
        "\n",
        "---\n",
        "\n",
        "\n"
      ],
      "metadata": {
        "id": "2YJrEyTT6b97"
      }
    },
    {
      "cell_type": "code",
      "source": [
        "mod_insec <- gamlss(\n",
        "  formula = ignScore ~ pb(RD) + pb(UD) + pb(PAD) + \n",
        "    pb(FC) + pb(POD) + pb(STP),\n",
        "  nu.formula = ignScore ~ pb(RD) + pb(UD) + pb(PAD) + \n",
        "    pb(FC) + pb(POD) + pb(STP),\n",
        "  family  = BEINF1,\n",
        "  data    = df3,\n",
        "  trace   = FALSE\n",
        ")\n",
        "summary(mod_insec)\n",
        "\n",
        "# Godness of fit\n",
        "# If you got an advertency here, please increase ylim.all argument\n",
        "wp(mod_insec, ylim.all = 1.2)"
      ],
      "metadata": {
        "id": "my2ZQKgd6gO8"
      },
      "execution_count": null,
      "outputs": []
    },
    {
      "cell_type": "code",
      "source": [
        "## Predictors selection for the mean\n",
        "stepGAIC(mod_insec, what = \"mu\", parallel = \"multicore\", ncpus = nC)"
      ],
      "metadata": {
        "id": "4D6zQ_Y97OLL"
      },
      "execution_count": null,
      "outputs": []
    },
    {
      "cell_type": "code",
      "source": [
        "## Pedictors selection for the shape\n",
        "stepGAIC(mod_insec, what = \"nu\", parallel = \"multicore\", ncpus = nC)"
      ],
      "metadata": {
        "id": "NVQjtwjt7G7q"
      },
      "execution_count": null,
      "outputs": []
    },
    {
      "cell_type": "code",
      "source": [
        "## Final Model\n",
        "# Depending on drop1 results you will need to add or remove predictors from the formula below\n",
        "\n",
        "mod_insec_final <- gamlss(\n",
        "  formula = ignScore ~ pb(RD) + pb(PAD) + pb(POD),\n",
        "  nu.formula = ignScore ~ pb(RD) + pb(PAD) + pb(UD) + pb(POD) + pb(FC) + pb(STP),\n",
        "  family  = BEINF1,\n",
        "  data    = df3,\n",
        "  trace   = FALSE\n",
        ")\n",
        "summary(mod_insec_final)\n",
        "\n",
        "# Godness of fit\n",
        "# If you've got a warning here, please increase ylim.all argument\n",
        "wp(mod_insec_final, ylim.all = 1.2)"
      ],
      "metadata": {
        "id": "t7pK2EN17jk1"
      },
      "execution_count": null,
      "outputs": []
    },
    {
      "cell_type": "code",
      "source": [
        "termplot(mod_insec_final, parameter=\"mu\", pages=3, ask=FALSE, rug=TRUE, se=FALSE)"
      ],
      "metadata": {
        "id": "qWjVX2dyVu9L"
      },
      "execution_count": null,
      "outputs": []
    },
    {
      "cell_type": "markdown",
      "source": [
        "Liliopsida model\n",
        "\n",
        "\n",
        "---\n",
        "\n",
        "\n"
      ],
      "metadata": {
        "id": "cilufBUR6Ttz"
      }
    },
    {
      "cell_type": "code",
      "source": [
        "mod_lilio <- gamlss(\n",
        "  formula = ignScore ~ pb(RD) + pb(UD) + pb(PAD) + \n",
        "    pb(FC) + pb(POD) + pb(STP),\n",
        "  nu.formula = ignScore ~ pb(RD) + pb(UD) + pb(PAD) + \n",
        "    pb(FC) + pb(POD) + pb(STP),\n",
        "  family  = BEINF1,\n",
        "  data    = df4,\n",
        "  trace   = FALSE\n",
        ")\n",
        "summary(mod_lilio)\n",
        "\n",
        "# Godness of fit\n",
        "# If you've got a warning here, please increase ylim.all argument\n",
        "wp(mod_lilio, ylim.all = 1.2)"
      ],
      "metadata": {
        "id": "RbEn2OoV6Nid"
      },
      "execution_count": null,
      "outputs": []
    },
    {
      "cell_type": "code",
      "source": [
        "## Predictors selection for the mean\n",
        "stepGAIC(mod_lilio, what = \"mu\", parallel = \"multicore\", ncpus = nC)"
      ],
      "metadata": {
        "id": "Ztr0NLBa7PKL"
      },
      "execution_count": null,
      "outputs": []
    },
    {
      "cell_type": "code",
      "source": [
        "## Pedictors selection for the shape\n",
        "stepGAIC(mod_lilio, what = \"nu\", parallel = \"multicore\", ncpus = nC)"
      ],
      "metadata": {
        "id": "DRhxBEn47H_q"
      },
      "execution_count": null,
      "outputs": []
    },
    {
      "cell_type": "code",
      "source": [
        "## Final Model\n",
        "# Depending on drop1 results you will need to add or remove predictors from the formula below\n",
        "\n",
        "mod_lilio_final <- gamlss(\n",
        "  formula = ignScore ~ pb(RD) + pb(UD) + pb(PAD) + pb(POD) + pb(FC) + pb(STP),\n",
        "  nu.formula = ignScore ~ pb(PAD),\n",
        "  family  = BEINF1,\n",
        "  data    = df4,\n",
        "  trace   = FALSE\n",
        ")\n",
        "summary(mod_lilio_final)\n",
        "\n",
        "# Godness of fit\n",
        "# If you've got a warning here, please increase ylim.all argument\n",
        "wp(mod_lilio_final, ylim.all = 1.2)"
      ],
      "metadata": {
        "id": "-c-J1zFW7mSY"
      },
      "execution_count": null,
      "outputs": []
    },
    {
      "cell_type": "code",
      "source": [
        "termplot(mod_lilio_final, parameter=\"mu\", pages=6, ask=FALSE, rug=TRUE, se=FALSE)"
      ],
      "metadata": {
        "id": "JEg52yyoWWQP"
      },
      "execution_count": null,
      "outputs": []
    },
    {
      "cell_type": "markdown",
      "source": [
        "Magnoliopsida model\n",
        "\n",
        "\n",
        "---\n",
        "\n",
        "\n"
      ],
      "metadata": {
        "id": "IBFA-vJw7nqj"
      }
    },
    {
      "cell_type": "code",
      "source": [
        "mod_magno <- gamlss(\n",
        "  formula = ignScore ~ pb(RD) + pb(UD) + pb(PAD) + \n",
        "    pb(FC) + pb(POD) + pb(STP),\n",
        "  nu.formula = ignScore ~ pb(RD) + pb(UD) + pb(PAD) + \n",
        "    pb(FC) + pb(POD) + pb(STP),\n",
        "  family  = BEINF1,\n",
        "  data    = df5,\n",
        "  trace   = FALSE\n",
        ")\n",
        "summary(mod_magno)\n",
        "\n",
        "# Godness of fit\n",
        "# If you've got a warning here, please increase ylim.all argument\n",
        "wp(mod_magno, ylim.all = 1.2)"
      ],
      "metadata": {
        "id": "v1axtXEK6ObU"
      },
      "execution_count": null,
      "outputs": []
    },
    {
      "cell_type": "code",
      "source": [
        "## Predictors selection for the mean\n",
        "stepGAIC(mod_magno, what = \"mu\", parallel = \"multicore\", ncpus = nC)"
      ],
      "metadata": {
        "id": "o7yD5HBf7P7v"
      },
      "execution_count": null,
      "outputs": []
    },
    {
      "cell_type": "code",
      "source": [
        "## Pedictors selection for the shape\n",
        "stepGAIC(mod_magno, what = \"nu\", parallel = \"multicore\", ncpus = nC)"
      ],
      "metadata": {
        "id": "EbxNuakO7I0h"
      },
      "execution_count": null,
      "outputs": []
    },
    {
      "cell_type": "code",
      "source": [
        "## Final Model\n",
        "# Depending on drop1 results you will need to add or remove predictors from the formula below\n",
        "\n",
        "mod_magno_final <- gamlss(\n",
        "  formula = ignScore ~ pb(RD) + pb(PAD) + pb(STP),\n",
        "  nu.formula = ignScore ~ pb(RD) + pb(PAD) + pb(UD) + pb(POD) + pb(FC) + pb(STP),\n",
        "  family  = BEINF1,\n",
        "  data    = df5,\n",
        "  trace   = FALSE\n",
        ")\n",
        "summary(mod_magno_final)\n",
        "\n",
        "# Godness of fit\n",
        "# If you've got a warning here, please increase ylim.all argument\n",
        "wp(mod_magno_final, ylim.all = 1.2)"
      ],
      "metadata": {
        "id": "2TpzacjY7rQB"
      },
      "execution_count": null,
      "outputs": []
    },
    {
      "cell_type": "code",
      "source": [
        "termplot(mod_magno_final, parameter=\"mu\", pages=3, ask=FALSE, rug=TRUE, se=FALSE)"
      ],
      "metadata": {
        "id": "4o0Jl1EcWhX9"
      },
      "execution_count": null,
      "outputs": []
    },
    {
      "cell_type": "markdown",
      "source": [
        "Mammalia model\n",
        "\n",
        "\n",
        "---\n",
        "\n",
        "\n"
      ],
      "metadata": {
        "id": "Rc9FRkjW7q4h"
      }
    },
    {
      "cell_type": "code",
      "source": [
        "mod_mamma <- gamlss(\n",
        "  formula = ignScore ~ pb(RD) + pb(UD) + pb(PAD) + \n",
        "    pb(FC) + pb(POD) + pb(STP),\n",
        "  nu.formula = ignScore ~ pb(RD) + pb(UD) + pb(PAD) + \n",
        "    pb(FC) + pb(POD) + pb(STP),\n",
        "  family  = BEINF1,\n",
        "  data    = df6,\n",
        "  trace   = FALSE\n",
        ")\n",
        "summary(mod_mamma)\n",
        "\n",
        "# Godness of fit\n",
        "# If you've got a warning here, please increase ylim.all argument\n",
        "wp(mod_mamma, ylim.all = 1.2)"
      ],
      "metadata": {
        "id": "wGhbN3hl6PP8"
      },
      "execution_count": null,
      "outputs": []
    },
    {
      "cell_type": "code",
      "source": [
        "## Predictors selection for the mean\n",
        "stepGAIC(mod_mamma, what = \"mu\", parallel = \"multicore\", ncpus = nC)"
      ],
      "metadata": {
        "id": "tKC4uXKX7Qzv"
      },
      "execution_count": null,
      "outputs": []
    },
    {
      "cell_type": "code",
      "source": [
        "## Pedictors selection for the shape\n",
        "stepGAIC(mod_mamma, what = \"nu\", parallel = \"multicore\", ncpus = nC)"
      ],
      "metadata": {
        "id": "_cJDbYY97Jcv"
      },
      "execution_count": null,
      "outputs": []
    },
    {
      "cell_type": "code",
      "source": [
        "## Final Model\n",
        "# Depending on drop1 results you will need to add or remove predictors from the formula below\n",
        "\n",
        "mod_mamma_final <- gamlss(\n",
        "  formula = ignScore ~ pb(RD) + pb(UD) + pb(PAD) + pb(FC) + pb(POD) + pb(STP),\n",
        "  nu.formula = ignScore ~ pb(RD) + pb(UD) + pb(PAD) + pb(FC) + pb(POD) + pb(STP),\n",
        "  family  = BEINF1,\n",
        "  data    = df6,\n",
        "  trace   = FALSE\n",
        ")\n",
        "summary(mod_mamma_final)\n",
        "\n",
        "# Godness of fit\n",
        "# If you've got a warning here, please increase ylim.all argument\n",
        "wp(mod_mamma_final, ylim.all = 1.2)"
      ],
      "metadata": {
        "id": "UNiQQyAq724b"
      },
      "execution_count": null,
      "outputs": []
    },
    {
      "cell_type": "code",
      "source": [
        "termplot(mod_mamma_final, parameter=\"mu\", pages=6, ask=FALSE, rug=TRUE, se=FALSE)"
      ],
      "metadata": {
        "id": "plgEIiUvXAgy"
      },
      "execution_count": null,
      "outputs": []
    },
    {
      "cell_type": "markdown",
      "source": [
        "Reptilia model\n",
        "\n",
        "\n",
        "\n",
        "---\n"
      ],
      "metadata": {
        "id": "qgyeu9By74UW"
      }
    },
    {
      "cell_type": "code",
      "source": [
        "mod_repti <- gamlss(\n",
        "  formula = ignScore ~ pb(RD) + pb(UD) + pb(PAD) + \n",
        "    pb(FC) + pb(POD) + pb(STP),\n",
        "  nu.formula = ignScore ~ pb(RD) + pb(UD) + pb(PAD) + \n",
        "    pb(FC) + pb(POD) + pb(STP),\n",
        "  family  = BEINF1,\n",
        "  data    = df7,\n",
        "  trace   = FALSE\n",
        ")\n",
        "summary(mod_repti)\n",
        "\n",
        "# Godness of fit\n",
        "# If you've got a warning here, please increase ylim.all argument\n",
        "wp(mod_repti, ylim.all = 1.2)"
      ],
      "metadata": {
        "id": "Sbmctiay6QFa"
      },
      "execution_count": null,
      "outputs": []
    },
    {
      "cell_type": "code",
      "source": [
        "## Predictors selection for the mean\n",
        "stepGAIC(mod_repti, what = \"mu\", parallel = \"multicore\", ncpus = nC)"
      ],
      "metadata": {
        "id": "pDsQbCPE7SC8"
      },
      "execution_count": null,
      "outputs": []
    },
    {
      "cell_type": "code",
      "source": [
        "## Pedictors selection for the shape\n",
        "stepGAIC(mod_repti, what = \"nu\", parallel = \"multicore\", ncpus = nC)"
      ],
      "metadata": {
        "id": "W8bDVPHK7Kfp"
      },
      "execution_count": null,
      "outputs": []
    },
    {
      "cell_type": "code",
      "source": [
        "## Final Model\n",
        "# Depending on drop1 results you will need to add or remove predictors from the formula below\n",
        "\n",
        "mod_repti_final <- gamlss(\n",
        "  formula = ignScore ~ pb(RD) + pb(STD),\n",
        "  nu.formula = ignScore ~ pb(RD) + pb(UD) + pb(PAD) + pb(FC) + pb(POD) + pb(STP),\n",
        "  family  = BEINF1,\n",
        "  data    = df7,\n",
        "  trace   = FALSE\n",
        ")\n",
        "summary(mod_repti_final)\n",
        "\n",
        "# Godness of fit\n",
        "# If you've got a warning here, please increase ylim.all argument\n",
        "wp(mod_repti_final, ylim.all = 1.2)"
      ],
      "metadata": {
        "id": "j5P-sEr_78hw"
      },
      "execution_count": null,
      "outputs": []
    },
    {
      "cell_type": "code",
      "source": [
        "termplot(mod_repti_final, parameter=\"mu\", pages=2, ask=FALSE, rug=TRUE, se=FALSE)"
      ],
      "metadata": {
        "id": "ZhQ-EgugXB3b"
      },
      "execution_count": null,
      "outputs": []
    }
  ],
  "metadata": {
    "colab": {
      "provenance": [],
      "authorship_tag": "ABX9TyP+xv3ufl7TgOPNJUJrgAWE",
      "include_colab_link": true
    },
    "kernelspec": {
      "display_name": "R",
      "name": "ir"
    },
    "language_info": {
      "name": "R"
    },
    "gpuClass": "standard"
  },
  "nbformat": 4,
  "nbformat_minor": 0
}